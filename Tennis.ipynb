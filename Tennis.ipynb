{
 "cells": [
  {
   "cell_type": "markdown",
   "metadata": {},
   "source": [
    "# Collaboration and Competition\n",
    "\n",
    "---\n",
    "\n",
    "You are welcome to use this coding environment to train your agent for the project.  Follow the instructions below to get started!\n",
    "\n",
    "### 1. Start the Environment\n",
    "\n",
    "Run the next code cell to install a few packages.  This line will take a few minutes to run!"
   ]
  },
  {
   "cell_type": "code",
   "execution_count": 1,
   "metadata": {},
   "outputs": [
    {
     "name": "stdout",
     "output_type": "stream",
     "text": [
      "\u001b[31mtensorflow 1.7.1 has requirement numpy>=1.13.3, but you'll have numpy 1.12.1 which is incompatible.\u001b[0m\r\n",
      "\u001b[31mipython 6.5.0 has requirement prompt-toolkit<2.0.0,>=1.0.15, but you'll have prompt-toolkit 3.0.16 which is incompatible.\u001b[0m\r\n"
     ]
    }
   ],
   "source": [
    "!pip -q install ./python"
   ]
  },
  {
   "cell_type": "markdown",
   "metadata": {},
   "source": [
    "The environment is already saved in the Workspace and can be accessed at the file path provided below. "
   ]
  },
  {
   "cell_type": "code",
   "execution_count": 2,
   "metadata": {},
   "outputs": [
    {
     "name": "stderr",
     "output_type": "stream",
     "text": [
      "INFO:unityagents:\n",
      "'Academy' started successfully!\n",
      "Unity Academy name: Academy\n",
      "        Number of Brains: 1\n",
      "        Number of External Brains : 1\n",
      "        Lesson number : 0\n",
      "        Reset Parameters :\n",
      "\t\t\n",
      "Unity brain name: TennisBrain\n",
      "        Number of Visual Observations (per agent): 0\n",
      "        Vector Observation space type: continuous\n",
      "        Vector Observation space size (per agent): 8\n",
      "        Number of stacked Vector Observation: 3\n",
      "        Vector Action space type: continuous\n",
      "        Vector Action space size (per agent): 2\n",
      "        Vector Action descriptions: , \n"
     ]
    }
   ],
   "source": [
    "from unityagents import UnityEnvironment\n",
    "import numpy as np\n",
    "from collections import deque\n",
    "import torch\n",
    "import matplotlib.pyplot as plt\n",
    "\n",
    "env = UnityEnvironment(file_name=\"/data/Tennis_Linux_NoVis/Tennis\")"
   ]
  },
  {
   "cell_type": "markdown",
   "metadata": {},
   "source": [
    "Environments contain **_brains_** which are responsible for deciding the actions of their associated agents. Here we check for the first brain available, and set it as the default brain we will be controlling from Python."
   ]
  },
  {
   "cell_type": "code",
   "execution_count": 3,
   "metadata": {},
   "outputs": [],
   "source": [
    "# get the default brain\n",
    "brain_name = env.brain_names[0]\n",
    "brain = env.brains[brain_name]"
   ]
  },
  {
   "cell_type": "markdown",
   "metadata": {},
   "source": [
    "### 2. Examine the State and Action Spaces\n",
    "\n",
    "Run the code cell below to print some information about the environment."
   ]
  },
  {
   "cell_type": "code",
   "execution_count": 4,
   "metadata": {},
   "outputs": [
    {
     "name": "stdout",
     "output_type": "stream",
     "text": [
      "Number of agents: 2\n",
      "Size of each action: 2\n",
      "There are 2 agents. Each observes a state with length: 24\n",
      "The state for the first agent looks like: [ 0.          0.          0.          0.          0.          0.          0.\n",
      "  0.          0.          0.          0.          0.          0.          0.\n",
      "  0.          0.         -6.65278625 -1.5        -0.          0.\n",
      "  6.83172083  6.         -0.          0.        ]\n"
     ]
    }
   ],
   "source": [
    "# reset the environment\n",
    "env_info = env.reset(train_mode=True)[brain_name]\n",
    "\n",
    "# number of agents \n",
    "num_agents = len(env_info.agents)\n",
    "print('Number of agents:', num_agents)\n",
    "\n",
    "# size of each action\n",
    "action_size = brain.vector_action_space_size\n",
    "print('Size of each action:', action_size)\n",
    "\n",
    "# examine the state space \n",
    "states = env_info.vector_observations\n",
    "state_size = states.shape[1]\n",
    "print('There are {} agents. Each observes a state with length: {}'.format(states.shape[0], state_size))\n",
    "print('The state for the first agent looks like:', states[0])"
   ]
  },
  {
   "cell_type": "markdown",
   "metadata": {},
   "source": [
    "### 3. Train Agent in the Environment\n",
    "\n",
    "In the next code cell, the multi agent DDPG is initialized and trained to solve th"
   ]
  },
  {
   "cell_type": "code",
   "execution_count": 5,
   "metadata": {},
   "outputs": [],
   "source": [
    "from MaDDPG import MaDDPGAgent\n",
    "maddpg = MaDDPGAgent(state_size=state_size, action_size=action_size, warmup=200, random_seed=0, nb_agents=num_agents)"
   ]
  },
  {
   "cell_type": "code",
   "execution_count": 7,
   "metadata": {
    "scrolled": false
   },
   "outputs": [
    {
     "name": "stdout",
     "output_type": "stream",
     "text": [
      "Episode 100\tAverage Score: 0.010000000149011612\n",
      "Episode 200\tAverage Score: 0.0000000000149011612\n",
      "Episode 300\tAverage Score: 0.0100000000149011612\n",
      "Episode 400\tAverage Score: 0.0100000000149011612\n",
      "Episode 500\tAverage Score: 0.0100000000149011612\n",
      "Episode 600\tAverage Score: 0.0100000000149011612\n",
      "Episode 700\tAverage Score: 0.0100000000149011612\n",
      "Episode 800\tAverage Score: 0.0000000000149011612\n",
      "Episode 900\tAverage Score: 0.0100000000149011612\n",
      "Episode 1000\tAverage Score: 0.000000000149011612\n",
      "Episode 1100\tAverage Score: 0.0100000000149011612\n",
      "Episode 1200\tAverage Score: 0.0100000000149011612\n",
      "Episode 1300\tAverage Score: 0.0000000000149011612\n",
      "Episode 1400\tAverage Score: 0.0100000000149011612\n",
      "Episode 1500\tAverage Score: 0.0100000000149011612\n",
      "Episode 1600\tAverage Score: 0.0100000000149011612\n",
      "Episode 1700\tAverage Score: 0.0100000000149011612\n",
      "Episode 1800\tAverage Score: 0.0109000000171363354\n",
      "Episode 1900\tAverage Score: 0.0109000000171363354\n",
      "Episode 2000\tAverage Score: 0.0100000000149011612\n",
      "Episode 2100\tAverage Score: 0.0100000000149011612\n",
      "Episode 2200\tAverage Score: 0.0109000000171363354\n",
      "Episode 2300\tAverage Score: 0.0200000000149011612\n",
      "Episode 2400\tAverage Score: 0.0200000000149011612\n",
      "Episode 2500\tAverage Score: 0.0100000000149011612\n",
      "Episode 2600\tAverage Score: 0.0200000000149011612\n",
      "Episode 2700\tAverage Score: 0.0400000000149011612\n",
      "Episode 2800\tAverage Score: 0.0400000000149011612\n",
      "Episode 2900\tAverage Score: 0.0300000000149011612\n",
      "Episode 3000\tAverage Score: 0.0300000000149011612\n",
      "Episode 3100\tAverage Score: 0.0400000000149011612\n",
      "Episode 3200\tAverage Score: 0.0300000000149011612\n",
      "Episode 3300\tAverage Score: 0.0200000000149011612\n",
      "Episode 3400\tAverage Score: 0.0100000000149011612\n",
      "Episode 3500\tAverage Score: 0.0000000000149011612\n",
      "Episode 3600\tAverage Score: 0.0100000000149011612\n",
      "Episode 3700\tAverage Score: 0.0210000000149011612\n",
      "Episode 3800\tAverage Score: 0.0200000000149011612\n",
      "Episode 3900\tAverage Score: 0.0109000000171363354\n",
      "Episode 4000\tAverage Score: 0.0300000000149011612\n",
      "Episode 4100\tAverage Score: 0.0109000000171363354\n",
      "Episode 4200\tAverage Score: 0.0100000000149011612\n",
      "Episode 4300\tAverage Score: 0.0200000000149011612\n",
      "Episode 4400\tAverage Score: 0.0120000000298023224\n",
      "Episode 4500\tAverage Score: 0.0200000000149011612\n",
      "Episode 4600\tAverage Score: 0.0100000000149011612\n",
      "Episode 4700\tAverage Score: 0.0100000000149011612\n",
      "Episode 4800\tAverage Score: 0.0100000000149011612\n",
      "Episode 4900\tAverage Score: 0.0000000000149011612\n",
      "Episode 5000\tAverage Score: 0.0000000000149011612\n",
      "Episode 5100\tAverage Score: 0.0100000000149011612\n",
      "Episode 5200\tAverage Score: 0.0000000000149011612\n",
      "Episode 5300\tAverage Score: 0.0310000000149011612\n",
      "Episode 5400\tAverage Score: 0.0600000000298023224\n",
      "Episode 5500\tAverage Score: 0.0810000000149011612\n",
      "Episode 5600\tAverage Score: 0.0600000000149011612\n",
      "Episode 5700\tAverage Score: 0.0610000000149011612\n",
      "Episode 5800\tAverage Score: 0.0500000000149011612\n",
      "Episode 5900\tAverage Score: 0.0400000000149011612\n",
      "Episode 6000\tAverage Score: 0.0510000000149011612\n",
      "Episode 6100\tAverage Score: 0.0609000000171363354\n",
      "Episode 6200\tAverage Score: 0.0600000000149011612\n",
      "Episode 6300\tAverage Score: 0.0510000000149011612\n",
      "Episode 6400\tAverage Score: 0.0400000000149011612\n",
      "Episode 6500\tAverage Score: 0.0500000000149011612\n",
      "Episode 6600\tAverage Score: 0.0609000000171363354\n",
      "Episode 6700\tAverage Score: 0.0710000000149011612\n",
      "Episode 6800\tAverage Score: 0.0610000000149011612\n",
      "Episode 6900\tAverage Score: 0.0830000000447034836\n",
      "Episode 7000\tAverage Score: 0.1010000000149011612\n",
      "Episode 7100\tAverage Score: 0.1410000000149011612\n",
      "Episode 7200\tAverage Score: 0.1209000000171363354\n",
      "Episode 7300\tAverage Score: 0.1320000000298023224\n",
      "Episode 7400\tAverage Score: 0.1610000000149011612\n",
      "Episode 7500\tAverage Score: 0.2010000000149011612\n",
      "Episode 7600\tAverage Score: 0.1809000000171363354\n",
      "Episode 7700\tAverage Score: 0.1110000000149011612\n",
      "Episode 7800\tAverage Score: 0.1609000000171363354\n",
      "Episode 7900\tAverage Score: 0.1320000000298023224\n",
      "Episode 8000\tAverage Score: 0.4220000000298023224\n",
      "Total score for episode 8050: 0.80000001192092924\n",
      "Environment solved in 7950 episodes!\tAverage Score: 0.50\n"
     ]
    }
   ],
   "source": [
    "# Set the number of maximum timesteps per epoch\n",
    "timesteps = 1500\n",
    "\n",
    "# Set the number of episodes to run the simulation\n",
    "episodes = 50000\n",
    "\n",
    "scores_window = deque(maxlen=100)           # last 100 scores\n",
    "scores_total = []                           # scores per epoch for each agent\n",
    "\n",
    "cnt=0\n",
    "for episode in range(1, episodes+1):\n",
    "    maddpg.reset()\n",
    "    env_info = env.reset(train_mode=True)[brain_name]      # reset the environment    \n",
    "    states = env_info.vector_observations                  # get the current state (for each agent)\n",
    "    scores = np.zeros(num_agents)                    # initialize the score (for each agent)\n",
    "    \n",
    "    for t in range(timesteps):\n",
    "        # Predict the best action for the current state. \n",
    "        actions = maddpg.act(states, cnt, add_noise = True)\n",
    "        cnt+=1\n",
    "        \n",
    "        # Action is performed and new state, reward, info are received. \n",
    "        env_info = env.step(actions)[brain_name]           # send all actions to tne environment\n",
    "        next_states = env_info.vector_observations         # get next state (for each agent)\n",
    "        rewards = env_info.rewards                         # get reward (for each agent)\n",
    "        dones = env_info.local_done                        # see if episode finished\n",
    "        \n",
    "        # current state, action, reward, new state are stored in the experience replay\n",
    "        maddpg.step(states, actions, rewards, next_states, dones)\n",
    "        \n",
    "        scores += env_info.rewards                         # update the score (for each agent)\n",
    "        states = next_states                               # roll over states to next time step\n",
    "        if np.any(dones):                                  # exit loop if episode finished\n",
    "            break \n",
    "    \n",
    "    scores_window.append(np.max(scores))       # save most recent score\n",
    "    scores_total.append(np.max(scores))        # save every score per epoch\n",
    "    print('\\rTotal score for episode {}: {}'.format(episode, np.max(scores)), end=\"\")\n",
    "    if episode % 100 == 0:\n",
    "        print('\\rEpisode {}\\tAverage Score: {:.2f}'.format(episode, np.mean(scores_window)))\n",
    "    if np.mean(scores_window)>0.5:\n",
    "        print('\\nEnvironment solved in {:d} episodes!\\tAverage Score: {:.2f}'.format(episode-100, np.mean(scores_window)))\n",
    "        for i in range(num_agents):\n",
    "            torch.save(maddpg.agents[i].actor_local.state_dict(), 'checkpoint_actor_agent_{}_episode_{}.pth'.format(i, episode-100))\n",
    "            torch.save(maddpg.agents[i].critic_local.state_dict(), 'checkpoint_critic_agent_{}_episode_{}.pth'.format(i, episode-100))\n",
    "        break"
   ]
  },
  {
   "cell_type": "code",
   "execution_count": 8,
   "metadata": {},
   "outputs": [
    {
     "data": {
      "image/png": "[encoded data removed]",
      "text/plain": [
       "<matplotlib.figure.Figure at 0x7f9044772da0>"
      ]
     },
     "metadata": {
      "needs_background": "light"
     },
     "output_type": "display_data"
    }
   ],
   "source": [
    "fig = plt.figure()\n",
    "ax = fig.add_subplot(111)\n",
    "plt.plot(np.arange(len(scores_total)), scores_total)\n",
    "plt.ylabel('Score')\n",
    "plt.xlabel('Episode #')\n",
    "plt.savefig('plot_of_rewards.png')\n",
    "#plt.show()"
   ]
  },
  {
   "cell_type": "markdown",
   "metadata": {},
   "source": [
    "When finished, you can close the environment."
   ]
  },
  {
   "cell_type": "code",
   "execution_count": null,
   "metadata": {},
   "outputs": [],
   "source": [
    "env.close()"
   ]
  }
 ],
 "metadata": {
  "kernelspec": {
   "display_name": "Python 3",
   "language": "python",
   "name": "python3"
  },
  "language_info": {
   "codemirror_mode": {
    "name": "ipython",
    "version": 3
   },
   "file_extension": ".py",
   "mimetype": "text/x-python",
   "name": "python",
   "nbconvert_exporter": "python",
   "pygments_lexer": "ipython3",
   "version": "3.6.3"
  }
 },
 "nbformat": 4,
 "nbformat_minor": 2
}
